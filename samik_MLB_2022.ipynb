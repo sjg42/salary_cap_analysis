{
 "cells": [
  {
   "cell_type": "markdown",
   "id": "a8865fea",
   "metadata": {},
   "source": [
    "## Extract"
   ]
  },
  {
   "cell_type": "code",
   "execution_count": 89,
   "id": "9d928e71",
   "metadata": {},
   "outputs": [],
   "source": [
    "from splinter import Browser\n",
    "from bs4 import BeautifulSoup as soup\n",
    "import pandas as pd\n",
    "import time\n",
    "import numpy as np"
   ]
  },
  {
   "cell_type": "markdown",
   "id": "a4837f4b",
   "metadata": {},
   "source": [
    "## Transform"
   ]
  },
  {
   "cell_type": "code",
   "execution_count": 90,
   "id": "aa64f51a",
   "metadata": {},
   "outputs": [],
   "source": [
    "browser = Browser('chrome')\n",
    "url = f'https://databases.usatoday.com/mlb-salaries-2022/page/1/'\n",
    "browser.visit(url)\n",
    "html = browser.html"
   ]
  },
  {
   "cell_type": "markdown",
   "id": "03c8b3c8",
   "metadata": {},
   "source": [
    "## Load"
   ]
  },
  {
   "cell_type": "code",
   "execution_count": 91,
   "id": "7dd7d154",
   "metadata": {},
   "outputs": [],
   "source": [
    "counter = 1\n",
    "for i in range(1,50):\n",
    "    if i < 49:\n",
    "        salary_data = []\n",
    "        html = browser.html\n",
    "        html_soup = soup(html, 'html.parser')\n",
    "        avg_salary = html_soup.find_all('div', class_='csp-data-table')\n",
    "        for row in avg_salary:\n",
    "            row_data = row.find_all('td')\n",
    "            salary_data_sub = []\n",
    "            for item in row_data:\n",
    "                salary_data_sub.append(item.text)\n",
    "            salary_data.append(salary_data_sub)\n",
    "            split_data = np.array_split(salary_data[0], 20)\n",
    "            zz = pd.DataFrame(split_data)\n",
    "            if counter == 1:\n",
    "                result= pd.DataFrame(split_data)\n",
    "                counter = 2\n",
    "            else:\n",
    "                result = pd.concat([result, zz])\n",
    "            browser.links.find_by_partial_text('Next').click()\n",
    "            time.sleep(5)\n",
    "    else:\n",
    "        salary_data = []\n",
    "        html = browser.html\n",
    "        html_soup = soup(html, 'html.parser')\n",
    "        avg_salary = html_soup.find_all('div', class_='csp-data-table')\n",
    "        for row in avg_salary:\n",
    "            row_data = row.find_all('td')\n",
    "            salary_data_sub = []\n",
    "            for item in row_data:\n",
    "                salary_data_sub.append(item.text)\n",
    "            salary_data.append(salary_data_sub)\n",
    "            split_data = np.array_split(salary_data[0], 11)\n",
    "            zz = pd.DataFrame(split_data)\n",
    "        result = pd.concat([result, zz])\n",
    "\n",
    "\n",
    "result.head(25)\n",
    "\n"
   ]
  },
  {
   "cell_type": "code",
   "execution_count": 103,
   "id": "14fdecbe",
   "metadata": {},
   "outputs": [],
   "source": [
    "# result.rename(columns={'0': 'Player', '1': 'Team', '2': 'Position', '3': 'Salary', '4': 'Years', \n",
    "#                       '5': 'Total Value', '6': 'Average Annual'}, inplace=True)\n",
    "result.columns=['Player', 'Team', 'Position', 'Salary', 'Years', 'Total Value', 'Average Annual']\n",
    "result.head()\n",
    "result.to_csv('2022 .csv')"
   ]
  },
  {
   "cell_type": "code",
   "execution_count": 93,
   "id": "34a5e9d1",
   "metadata": {},
   "outputs": [],
   "source": [
    "browser.quit()"
   ]
  }
 ],
 "metadata": {
  "kernelspec": {
   "display_name": "Python 3 (ipykernel)",
   "language": "python",
   "name": "python3"
  },
  "language_info": {
   "codemirror_mode": {
    "name": "ipython",
    "version": 3
   },
   "file_extension": ".py",
   "mimetype": "text/x-python",
   "name": "python",
   "nbconvert_exporter": "python",
   "pygments_lexer": "ipython3",
   "version": "3.10.9"
  }
 },
 "nbformat": 4,
 "nbformat_minor": 5
}
